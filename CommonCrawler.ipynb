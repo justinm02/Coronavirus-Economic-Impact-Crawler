{
 "cells": [
  {
   "cell_type": "code",
   "execution_count": 1,
   "metadata": {},
   "outputs": [
    {
     "name": "stdout",
     "output_type": "stream",
     "text": [
      "Requirement already satisfied: warcio in /Users/justinmilushev/opt/anaconda3/lib/python3.8/site-packages (1.7.4)\r\n",
      "Requirement already satisfied: six in /Users/justinmilushev/opt/anaconda3/lib/python3.8/site-packages (from warcio) (1.15.0)\r\n"
     ]
    }
   ],
   "source": [
    "!pip install warcio"
   ]
  },
  {
   "cell_type": "code",
   "execution_count": 2,
   "metadata": {},
   "outputs": [],
   "source": [
    "from warcio.archiveiterator import ArchiveIterator\n",
    "import re\n",
    "import requests\n",
    "import sys"
   ]
  },
  {
   "cell_type": "code",
   "execution_count": 3,
   "metadata": {},
   "outputs": [],
   "source": [
    "# read in warc files from March through April 2020\n",
    "warc_files = open('warc.paths', 'r')\n",
    "warc_urls = warc_files.readlines()\n",
    "warc_files.close()"
   ]
  },
  {
   "cell_type": "code",
   "execution_count": 4,
   "metadata": {},
   "outputs": [],
   "source": [
    "# determine if the given page discusses covid-19 economic impact based on url content\n",
    "def valid_url(url):\n",
    "    corona_url = re.search(\"coronavirus\", url, re.IGNORECASE) or re.search(\"covid-19\", url, re.IGNORECASE)\n",
    "    economic_url = re.search(\"economy\", url, re.IGNORECASE) or re.search(\"economic\", url, re.IGNORECASE)\n",
    "    return corona_url and economic_url"
   ]
  },
  {
   "cell_type": "code",
   "execution_count": 5,
   "metadata": {
    "scrolled": false
   },
   "outputs": [
    {
     "ename": "KeyboardInterrupt",
     "evalue": "",
     "output_type": "error",
     "traceback": [
      "\u001b[0;31m---------------------------------------------------------------------------\u001b[0m",
      "\u001b[0;31mKeyboardInterrupt\u001b[0m                         Traceback (most recent call last)",
      "\u001b[0;32m<ipython-input-5-625325e65625>\u001b[0m in \u001b[0;36m<module>\u001b[0;34m\u001b[0m\n\u001b[1;32m      6\u001b[0m     \u001b[0mwarc_stream\u001b[0m \u001b[0;34m=\u001b[0m \u001b[0mrequests\u001b[0m\u001b[0;34m.\u001b[0m\u001b[0mget\u001b[0m\u001b[0;34m(\u001b[0m\u001b[0mwarc_file\u001b[0m\u001b[0;34m,\u001b[0m \u001b[0mstream\u001b[0m\u001b[0;34m=\u001b[0m\u001b[0;32mTrue\u001b[0m\u001b[0;34m)\u001b[0m\u001b[0;34m.\u001b[0m\u001b[0mraw\u001b[0m\u001b[0;34m\u001b[0m\u001b[0;34m\u001b[0m\u001b[0m\n\u001b[1;32m      7\u001b[0m \u001b[0;34m\u001b[0m\u001b[0m\n\u001b[0;32m----> 8\u001b[0;31m     \u001b[0;32mfor\u001b[0m \u001b[0mrecord\u001b[0m \u001b[0;32min\u001b[0m \u001b[0mArchiveIterator\u001b[0m\u001b[0;34m(\u001b[0m\u001b[0mwarc_stream\u001b[0m\u001b[0;34m)\u001b[0m\u001b[0;34m:\u001b[0m\u001b[0;34m\u001b[0m\u001b[0;34m\u001b[0m\u001b[0m\n\u001b[0m\u001b[1;32m      9\u001b[0m         \u001b[0murl\u001b[0m \u001b[0;34m=\u001b[0m \u001b[0mstr\u001b[0m\u001b[0;34m(\u001b[0m\u001b[0mrecord\u001b[0m\u001b[0;34m.\u001b[0m\u001b[0mrec_headers\u001b[0m\u001b[0;34m.\u001b[0m\u001b[0mget_header\u001b[0m\u001b[0;34m(\u001b[0m\u001b[0;34m\"WARC-Target-URI\"\u001b[0m\u001b[0;34m)\u001b[0m\u001b[0;34m)\u001b[0m\u001b[0;34m\u001b[0m\u001b[0;34m\u001b[0m\u001b[0m\n\u001b[1;32m     10\u001b[0m \u001b[0;34m\u001b[0m\u001b[0m\n",
      "\u001b[0;32m~/opt/anaconda3/lib/python3.8/site-packages/warcio/archiveiterator.py\u001b[0m in \u001b[0;36m_iterate_records\u001b[0;34m(self)\u001b[0m\n\u001b[1;32m    108\u001b[0m         \u001b[0;32mwhile\u001b[0m \u001b[0;32mTrue\u001b[0m\u001b[0;34m:\u001b[0m\u001b[0;34m\u001b[0m\u001b[0;34m\u001b[0m\u001b[0m\n\u001b[1;32m    109\u001b[0m             \u001b[0;32mtry\u001b[0m\u001b[0;34m:\u001b[0m\u001b[0;34m\u001b[0m\u001b[0;34m\u001b[0m\u001b[0m\n\u001b[0;32m--> 110\u001b[0;31m                 \u001b[0mself\u001b[0m\u001b[0;34m.\u001b[0m\u001b[0mrecord\u001b[0m \u001b[0;34m=\u001b[0m \u001b[0mself\u001b[0m\u001b[0;34m.\u001b[0m\u001b[0m_next_record\u001b[0m\u001b[0;34m(\u001b[0m\u001b[0mself\u001b[0m\u001b[0;34m.\u001b[0m\u001b[0mnext_line\u001b[0m\u001b[0;34m)\u001b[0m\u001b[0;34m\u001b[0m\u001b[0;34m\u001b[0m\u001b[0m\n\u001b[0m\u001b[1;32m    111\u001b[0m                 \u001b[0;32mif\u001b[0m \u001b[0mraise_invalid_gzip\u001b[0m\u001b[0;34m:\u001b[0m\u001b[0;34m\u001b[0m\u001b[0;34m\u001b[0m\u001b[0m\n\u001b[1;32m    112\u001b[0m                     \u001b[0mself\u001b[0m\u001b[0;34m.\u001b[0m\u001b[0m_raise_invalid_gzip_err\u001b[0m\u001b[0;34m(\u001b[0m\u001b[0;34m)\u001b[0m\u001b[0;34m\u001b[0m\u001b[0;34m\u001b[0m\u001b[0m\n",
      "\u001b[0;32m~/opt/anaconda3/lib/python3.8/site-packages/warcio/archiveiterator.py\u001b[0m in \u001b[0;36m_next_record\u001b[0;34m(self, next_line)\u001b[0m\n\u001b[1;32m    255\u001b[0m         \u001b[0mSupporting\u001b[0m \u001b[0mwarc\u001b[0m \u001b[0;32mand\u001b[0m \u001b[0marc\u001b[0m \u001b[0mrecords\u001b[0m\u001b[0;34m\u001b[0m\u001b[0;34m\u001b[0m\u001b[0m\n\u001b[1;32m    256\u001b[0m         \"\"\"\n\u001b[0;32m--> 257\u001b[0;31m         record = self.loader.parse_record_stream(self.reader,\n\u001b[0m\u001b[1;32m    258\u001b[0m                                                  \u001b[0mnext_line\u001b[0m\u001b[0;34m,\u001b[0m\u001b[0;34m\u001b[0m\u001b[0;34m\u001b[0m\u001b[0m\n\u001b[1;32m    259\u001b[0m                                                  \u001b[0mself\u001b[0m\u001b[0;34m.\u001b[0m\u001b[0mknown_format\u001b[0m\u001b[0;34m,\u001b[0m\u001b[0;34m\u001b[0m\u001b[0;34m\u001b[0m\u001b[0m\n",
      "\u001b[0;32m~/opt/anaconda3/lib/python3.8/site-packages/warcio/recordloader.py\u001b[0m in \u001b[0;36mparse_record_stream\u001b[0;34m(self, stream, statusline, known_format, no_record_parse, ensure_http_headers, check_digests)\u001b[0m\n\u001b[1;32m     83\u001b[0m         \u001b[0mto\u001b[0m \u001b[0mfaciliate\u001b[0m \u001b[0mparsing\u001b[0m\u001b[0;34m.\u001b[0m\u001b[0;34m\u001b[0m\u001b[0;34m\u001b[0m\u001b[0m\n\u001b[1;32m     84\u001b[0m         \"\"\"\n\u001b[0;32m---> 85\u001b[0;31m         (the_format, rec_headers) = (self.\n\u001b[0m\u001b[1;32m     86\u001b[0m                                      _detect_type_load_headers(stream,\n\u001b[1;32m     87\u001b[0m                                                                \u001b[0mstatusline\u001b[0m\u001b[0;34m,\u001b[0m\u001b[0;34m\u001b[0m\u001b[0;34m\u001b[0m\u001b[0m\n",
      "\u001b[0;32m~/opt/anaconda3/lib/python3.8/site-packages/warcio/recordloader.py\u001b[0m in \u001b[0;36m_detect_type_load_headers\u001b[0;34m(self, stream, statusline, known_format)\u001b[0m\n\u001b[1;32m    222\u001b[0m             \u001b[0;31m# try as warc first\u001b[0m\u001b[0;34m\u001b[0m\u001b[0;34m\u001b[0m\u001b[0;34m\u001b[0m\u001b[0m\n\u001b[1;32m    223\u001b[0m             \u001b[0;32mtry\u001b[0m\u001b[0;34m:\u001b[0m\u001b[0;34m\u001b[0m\u001b[0;34m\u001b[0m\u001b[0m\n\u001b[0;32m--> 224\u001b[0;31m                 \u001b[0mrec_headers\u001b[0m \u001b[0;34m=\u001b[0m \u001b[0mself\u001b[0m\u001b[0;34m.\u001b[0m\u001b[0mwarc_parser\u001b[0m\u001b[0;34m.\u001b[0m\u001b[0mparse\u001b[0m\u001b[0;34m(\u001b[0m\u001b[0mstream\u001b[0m\u001b[0;34m,\u001b[0m \u001b[0mstatusline\u001b[0m\u001b[0;34m)\u001b[0m\u001b[0;34m\u001b[0m\u001b[0;34m\u001b[0m\u001b[0m\n\u001b[0m\u001b[1;32m    225\u001b[0m                 \u001b[0;32mreturn\u001b[0m \u001b[0;34m'warc'\u001b[0m\u001b[0;34m,\u001b[0m \u001b[0mrec_headers\u001b[0m\u001b[0;34m\u001b[0m\u001b[0;34m\u001b[0m\u001b[0m\n\u001b[1;32m    226\u001b[0m             \u001b[0;32mexcept\u001b[0m \u001b[0mStatusAndHeadersParserException\u001b[0m \u001b[0;32mas\u001b[0m \u001b[0mse\u001b[0m\u001b[0;34m:\u001b[0m\u001b[0;34m\u001b[0m\u001b[0;34m\u001b[0m\u001b[0m\n",
      "\u001b[0;32m~/opt/anaconda3/lib/python3.8/site-packages/warcio/statusandheaders.py\u001b[0m in \u001b[0;36mparse\u001b[0;34m(self, stream, full_statusline)\u001b[0m\n\u001b[1;32m    282\u001b[0m                 \u001b[0mvalue\u001b[0m \u001b[0;34m=\u001b[0m \u001b[0;32mNone\u001b[0m\u001b[0;34m\u001b[0m\u001b[0;34m\u001b[0m\u001b[0m\n\u001b[1;32m    283\u001b[0m \u001b[0;34m\u001b[0m\u001b[0m\n\u001b[0;32m--> 284\u001b[0;31m             next_line, total_read = _strip_count(self.decode_header(stream.readline()),\n\u001b[0m\u001b[1;32m    285\u001b[0m                                                  total_read)\n\u001b[1;32m    286\u001b[0m \u001b[0;34m\u001b[0m\u001b[0m\n",
      "\u001b[0;32m~/opt/anaconda3/lib/python3.8/site-packages/warcio/bufferedreaders.py\u001b[0m in \u001b[0;36mreadline\u001b[0;34m(self, length)\u001b[0m\n\u001b[1;32m    183\u001b[0m             \u001b[0;32mreturn\u001b[0m \u001b[0;34mb''\u001b[0m\u001b[0;34m\u001b[0m\u001b[0;34m\u001b[0m\u001b[0m\n\u001b[1;32m    184\u001b[0m \u001b[0;34m\u001b[0m\u001b[0m\n\u001b[0;32m--> 185\u001b[0;31m         \u001b[0mself\u001b[0m\u001b[0;34m.\u001b[0m\u001b[0m_fillbuff\u001b[0m\u001b[0;34m(\u001b[0m\u001b[0;34m)\u001b[0m\u001b[0;34m\u001b[0m\u001b[0;34m\u001b[0m\u001b[0m\n\u001b[0m\u001b[1;32m    186\u001b[0m \u001b[0;34m\u001b[0m\u001b[0m\n\u001b[1;32m    187\u001b[0m         \u001b[0;32mif\u001b[0m \u001b[0mself\u001b[0m\u001b[0;34m.\u001b[0m\u001b[0mempty\u001b[0m\u001b[0;34m(\u001b[0m\u001b[0;34m)\u001b[0m\u001b[0;34m:\u001b[0m\u001b[0;34m\u001b[0m\u001b[0;34m\u001b[0m\u001b[0m\n",
      "\u001b[0;31mKeyboardInterrupt\u001b[0m: "
     ]
    }
   ],
   "source": [
    "# Keep track of valid URLs\n",
    "page_dictionary = {}\n",
    "pre_url = \"http://commoncrawl.s3.amazonaws.com/\"\n",
    "\n",
    "# search through each page in database from march through april 2020 \n",
    "for warc_url in warc_urls:\n",
    "    # cut out last next line character and add valid pre_url component\n",
    "    warc_file = pre_url + warc_url[0:len(warc_url) - 1]\n",
    "    warc_stream = requests.get(warc_file, stream=True).raw\n",
    "    \n",
    "    # For this WARC record, determine if any pages are valid\n",
    "    for record in ArchiveIterator(warc_stream):  \n",
    "        url = str(record.rec_headers.get_header(\"WARC-Target-URI\"))\n",
    "    \n",
    "        if valid_url(url):\n",
    "            date = str(record.rec_headers.get_header(\"WARC-Date\"))\n",
    "            page_dictionary[url] = date"
   ]
  },
  {
   "cell_type": "code",
   "execution_count": 6,
   "metadata": {
    "collapsed": true
   },
   "outputs": [
    {
     "name": "stdout",
     "output_type": "stream",
     "text": [
      "1\n",
      "https://ona.az/en/economy/death-toll-in-china-coronavirus-outbreak-reaches-2347-12760\n",
      "2020-03-28T09:28:37Z\n",
      "\n",
      "2\n",
      "https://www.britishchambers.org.uk/news/2020/03/bcc-forecast-coronavirus-could-further-weaken-uk-economy-3\n",
      "2020-03-28T08:53:39Z\n",
      "\n",
      "3\n",
      "https://www.businesstimes.com.sg/government-economy/govt-not-ruling-out-use-of-past-reserves-for-2nd-covid-19-support-package-heng\n",
      "2020-03-28T10:21:09Z\n",
      "\n",
      "4\n",
      "https://updates.aem.org/acton/attachment/7024/f-8f3da251-2fd9-4dcd-952f-4e372860cd7a/1/-/-/-/-/Economic%20Update%20on%20the%20Industry%20Impact%20of%20COVID-19.ics\n",
      "2020-03-28T07:45:32Z\n",
      "\n"
     ]
    }
   ],
   "source": [
    "# print out resulting pages discussing COVID-19 economic impact in 2020\n",
    "index = 1;\n",
    "for url in page_dictionary:\n",
    "    print(index)\n",
    "    print(url)\n",
    "    print(page_dictionary[url])\n",
    "    print()\n",
    "    index = index + 1;"
   ]
  },
  {
   "cell_type": "code",
   "execution_count": null,
   "metadata": {},
   "outputs": [],
   "source": []
  }
 ],
 "metadata": {
  "kernelspec": {
   "display_name": "Python 3",
   "language": "python",
   "name": "python3"
  },
  "language_info": {
   "codemirror_mode": {
    "name": "ipython",
    "version": 3
   },
   "file_extension": ".py",
   "mimetype": "text/x-python",
   "name": "python",
   "nbconvert_exporter": "python",
   "pygments_lexer": "ipython3",
   "version": "3.8.3"
  }
 },
 "nbformat": 4,
 "nbformat_minor": 4
}
